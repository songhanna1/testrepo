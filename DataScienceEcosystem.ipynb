{
 "cells": [
  {
   "cell_type": "markdown",
   "id": "13fa2ad0-bc76-44fc-b80e-34912b9af61d",
   "metadata": {},
   "source": [
    "Exercise_2"
   ]
  },
  {
   "cell_type": "code",
   "execution_count": null,
   "id": "8e62b4ec-7f3e-4fc4-8bb5-34deef92f7c2",
   "metadata": {},
   "outputs": [],
   "source": []
  },
  {
   "cell_type": "markdown",
   "id": "21226e5f-9345-404f-ab30-380e89b7259f",
   "metadata": {},
   "source": [
    "# Data Science Tools and Ecosystem"
   ]
  },
  {
   "cell_type": "code",
   "execution_count": null,
   "id": "424d5b4d-9f5d-43dc-bfe4-91dbee493192",
   "metadata": {},
   "outputs": [],
   "source": []
  },
  {
   "cell_type": "markdown",
   "id": "0fcfb7a7-7dc8-4fb7-b023-b8ad7d729c05",
   "metadata": {},
   "source": [
    "Exercise_3"
   ]
  },
  {
   "cell_type": "markdown",
   "id": "7c06982d-1a08-4864-8a59-e20c8d32c4a1",
   "metadata": {},
   "source": [
    "In this notebook, Data Science Tools and Ecosystem are summarized."
   ]
  },
  {
   "cell_type": "markdown",
   "id": "cae99d5d-9f0a-4398-b13d-134378d5ead5",
   "metadata": {
    "tags": []
   },
   "source": [
    "Exercise_10"
   ]
  },
  {
   "cell_type": "markdown",
   "id": "ebbd7c9e-8504-457c-9edb-72f60037b4da",
   "metadata": {},
   "source": [
    "**Objectives:**"
   ]
  },
  {
   "cell_type": "markdown",
   "id": "f33e4516-be6d-4924-9031-c8fc99b2d2ac",
   "metadata": {},
   "source": [
    "* Create a Jupyter Notebook with markdown and code cells"
   ]
  },
  {
   "cell_type": "markdown",
   "id": "a5b97a47-b64c-418f-9510-f60a34d954f4",
   "metadata": {
    "tags": []
   },
   "source": [
    "* Share your Jupyter Notebook publicly on GitHub"
   ]
  },
  {
   "cell_type": "markdown",
   "id": "04d80a07-9d08-488c-ba16-27411c7daa50",
   "metadata": {},
   "source": [
    "* Demonstrate proficiency in Data Science toolkit knowledge"
   ]
  },
  {
   "cell_type": "code",
   "execution_count": null,
   "id": "5993d0ca-14c2-4428-96b8-1bcc17ac3be1",
   "metadata": {},
   "outputs": [],
   "source": []
  },
  {
   "cell_type": "markdown",
   "id": "6bafab1c-ecad-4b72-bc67-a5f44c063942",
   "metadata": {},
   "source": [
    "Exercise_4"
   ]
  },
  {
   "cell_type": "markdown",
   "id": "5e9d6941-8324-4f1e-abc2-5a4fba3505cc",
   "metadata": {},
   "source": [
    "Some of the popular languages that Data Scientists use are:"
   ]
  },
  {
   "cell_type": "markdown",
   "id": "18194698-3df4-4cf7-b6db-c319fd0f5e68",
   "metadata": {},
   "source": [
    "1. SQL"
   ]
  },
  {
   "cell_type": "markdown",
   "id": "97ad7280-80be-418a-a0b8-79d1744b25e6",
   "metadata": {},
   "source": [
    "2. Java"
   ]
  },
  {
   "cell_type": "markdown",
   "id": "ae5d4c0a-088f-408a-85c9-26a5f5e3e106",
   "metadata": {},
   "source": [
    "3. C++"
   ]
  },
  {
   "cell_type": "code",
   "execution_count": null,
   "id": "84a0acef-f5b9-4c49-bc42-c634fde7d943",
   "metadata": {},
   "outputs": [],
   "source": []
  },
  {
   "cell_type": "markdown",
   "id": "b9a7feda-a61a-473e-9108-1ac92aff139f",
   "metadata": {},
   "source": [
    "Exercise_5"
   ]
  },
  {
   "cell_type": "markdown",
   "id": "9a51424f-bbe1-44d7-b7c8-4dec6928b6fd",
   "metadata": {},
   "source": [
    "Some of the commonly used libraries used by Data Scientists include:"
   ]
  },
  {
   "cell_type": "markdown",
   "id": "8957801b-3fa7-45f6-ac89-06eed1ef3867",
   "metadata": {},
   "source": [
    "1. NumPy"
   ]
  },
  {
   "cell_type": "markdown",
   "id": "0a263b2f-d80a-45de-8f45-aa14160b82a0",
   "metadata": {},
   "source": [
    "2. Apache Spark"
   ]
  },
  {
   "cell_type": "markdown",
   "id": "d5ff30de-b798-49f5-b11a-b395c30a76da",
   "metadata": {},
   "source": [
    "3. Matplotlib"
   ]
  },
  {
   "cell_type": "code",
   "execution_count": null,
   "id": "7fae34c6-8a65-4e28-919d-a63ab738aa56",
   "metadata": {},
   "outputs": [],
   "source": []
  },
  {
   "cell_type": "markdown",
   "id": "8f1226f5-2755-4ae2-b12a-5e367253f40c",
   "metadata": {},
   "source": [
    "Exercise_6"
   ]
  },
  {
   "cell_type": "markdown",
   "id": "bf132e6d-f4e0-4ada-a7d1-f4a4db2a5f74",
   "metadata": {},
   "source": [
    "| Data Science Tools |\n",
    "--------\n",
    "|  Jupyter Notebook   |\n",
    "|  RStudio   |\n",
    "|  Pandas|"
   ]
  },
  {
   "cell_type": "code",
   "execution_count": null,
   "id": "fbdd5810-b5ff-4222-badf-d78a3acaf1d4",
   "metadata": {},
   "outputs": [],
   "source": []
  },
  {
   "cell_type": "markdown",
   "id": "33d1de06-d487-47d1-8ae7-a2d0551f842d",
   "metadata": {},
   "source": [
    "Exercise_7"
   ]
  },
  {
   "cell_type": "markdown",
   "id": "f8cd96cd-8a5b-4b6a-9410-29b47fd5783b",
   "metadata": {},
   "source": [
    "### Below are a few examples of evaluating arithmetic expressions in Python"
   ]
  },
  {
   "cell_type": "code",
   "execution_count": null,
   "id": "139b97e9-6380-4e41-8155-c2d9ce9a7f18",
   "metadata": {},
   "outputs": [],
   "source": []
  },
  {
   "cell_type": "markdown",
   "id": "cd7fe370-8497-4bce-824d-d3cc342473eb",
   "metadata": {},
   "source": [
    "Exercise_8"
   ]
  },
  {
   "cell_type": "markdown",
   "id": "b5f4a11a-2e7f-4c14-884d-5adfe67c018a",
   "metadata": {},
   "source": [
    "This a simple arithmetic expression to mutiply then add integers"
   ]
  },
  {
   "cell_type": "code",
   "execution_count": 2,
   "id": "aae6261d-cf4c-4ad2-aa3e-74514e278965",
   "metadata": {
    "tags": []
   },
   "outputs": [
    {
     "data": {
      "text/plain": [
       "17"
      ]
     },
     "execution_count": 2,
     "metadata": {},
     "output_type": "execute_result"
    }
   ],
   "source": [
    "(3*4)+5"
   ]
  },
  {
   "cell_type": "code",
   "execution_count": null,
   "id": "6eed9712-aec8-4f10-89c5-81f71579ce58",
   "metadata": {},
   "outputs": [],
   "source": []
  },
  {
   "cell_type": "markdown",
   "id": "7dcc2374-0633-4d33-affc-c986ab4600e6",
   "metadata": {
    "tags": []
   },
   "source": [
    "Exercise_9"
   ]
  },
  {
   "cell_type": "code",
   "execution_count": 3,
   "id": "5d283892-4663-4edb-baac-1a6ed64c317f",
   "metadata": {},
   "outputs": [
    {
     "name": "stdout",
     "output_type": "stream",
     "text": [
      "3.3333333333333335 hours \n"
     ]
    }
   ],
   "source": [
    "mins=200\n",
    "hours=mins/60\n",
    "print(str(hours) + \" hours \")"
   ]
  },
  {
   "cell_type": "code",
   "execution_count": null,
   "id": "f528bb10-f6db-4ac3-9301-72b41f323e24",
   "metadata": {},
   "outputs": [],
   "source": []
  },
  {
   "cell_type": "markdown",
   "id": "4d4fd553-517c-48f4-abb2-2743477e3af4",
   "metadata": {},
   "source": [
    "Exercise_11"
   ]
  },
  {
   "cell_type": "markdown",
   "id": "c49fe644-9056-460a-a181-de9a620295bf",
   "metadata": {},
   "source": [
    "## Author\n",
    "Song"
   ]
  }
 ],
 "metadata": {
  "kernelspec": {
   "display_name": "Python 3 (ipykernel)",
   "language": "python",
   "name": "python3"
  },
  "language_info": {
   "codemirror_mode": {
    "name": "ipython",
    "version": 3
   },
   "file_extension": ".py",
   "mimetype": "text/x-python",
   "name": "python",
   "nbconvert_exporter": "python",
   "pygments_lexer": "ipython3",
   "version": "3.11.5"
  }
 },
 "nbformat": 4,
 "nbformat_minor": 5
}
